
import numpy as np

def softmax(L):
    """
    Compute the softmax values of the input array L.
    """
    # Convert the input list to a NumPy array
    L = np.array(L)
    
    # Compute the exponentials of the input array
    e_L = np.exp(L - np.max(L))  # Subtract np.max(L) for numerical stability
    
    # Compute the softmax values
    softmax_values = e_L / np.sum(e_L)
    
    return softmax_values


# Example input
input_list = [2.0, 1.0, 0.1]

# Compute softmax
result = softmax(input_list)

print(result)
